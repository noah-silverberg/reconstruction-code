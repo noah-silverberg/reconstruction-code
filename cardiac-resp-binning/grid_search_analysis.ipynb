{
 "cells": [
  {
   "cell_type": "code",
   "execution_count": 2,
   "metadata": {},
   "outputs": [
    {
     "name": "stdout",
     "output_type": "stream",
     "text": [
      "BEST\n",
      "     resp_sigma  card_sigma  priority_exp  penalty_factor       cost\n",
      "479      0.3775      2.0000           0.5           0.950  18.339370\n",
      "604      0.5000      2.0000           0.5           0.950  18.495841\n",
      "354      0.2550      2.0000           0.5           0.950  18.544639\n",
      "603      0.5000      2.0000           0.5           0.725  19.374782\n",
      "579      0.5000      1.5125           0.5           0.950  19.396003\n",
      "229      0.1325      2.0000           0.5           0.950  19.443414\n",
      "478      0.3775      2.0000           0.5           0.725  19.635456\n",
      "602      0.5000      2.0000           0.5           0.500  20.647375\n",
      "353      0.2550      2.0000           0.5           0.725  20.867830\n",
      "578      0.5000      1.5125           0.5           0.725  21.027215\n",
      "WORST\n",
      "     resp_sigma  card_sigma  priority_exp  penalty_factor        cost\n",
      "275      0.2550      0.5375         0.500            0.05  312.771797\n",
      "130      0.1325      0.0500         2.875            0.05  313.238813\n",
      "150      0.1325      0.5375         0.500            0.05  350.907222\n",
      "5        0.0100      0.0500         2.875            0.05  360.955467\n",
      "25       0.0100      0.5375         0.500            0.05  400.800491\n",
      "500      0.5000      0.0500         0.500            0.05  461.639757\n",
      "375      0.3775      0.0500         0.500            0.05  491.879739\n",
      "250      0.2550      0.0500         0.500            0.05  527.801812\n",
      "125      0.1325      0.0500         0.500            0.05  573.912584\n",
      "0        0.0100      0.0500         0.500            0.05  663.955794\n"
     ]
    }
   ],
   "source": [
    "import pandas as pd\n",
    "df = pd.read_csv(\"gridsearch_results.csv\")\n",
    "df_sorted = df.sort_values(by=\"cost\", ascending=True)\n",
    "best_10 = df_sorted.head(10)\n",
    "worst_10_finite = df_sorted[df_sorted[\"cost\"] != float(\"inf\")].tail(10)\n",
    "print(\"BEST\")\n",
    "print(best_10)\n",
    "print(\"WORST\")\n",
    "print(worst_10_finite)"
   ]
  },
  {
   "cell_type": "code",
   "execution_count": 4,
   "metadata": {},
   "outputs": [
    {
     "name": "stdout",
     "output_type": "stream",
     "text": [
      "PARAM: resp_sigma\n",
      "  0.38: mean=101.81, std=65.86, percent_finite=97.60%\n",
      "  0.50: mean=99.05, std=63.34, percent_finite=96.00%\n",
      "  0.26: mean=103.91, std=69.92, percent_finite=95.20%\n",
      "  0.13: mean=109.88, std=74.79, percent_finite=97.60%\n",
      "  0.01: mean=117.54, std=83.74, percent_finite=99.20%\n",
      "PARAM: card_sigma\n",
      "  2.00: mean=73.70, std=40.27, percent_finite=100.00%\n",
      "  1.51: mean=80.46, std=44.35, percent_finite=100.00%\n",
      "  1.02: mean=91.81, std=50.68, percent_finite=98.40%\n",
      "  0.54: mean=110.07, std=64.22, percent_finite=97.60%\n",
      "  0.05: mean=184.47, std=92.96, percent_finite=89.60%\n",
      "PARAM: priority_exp\n",
      "  0.50: mean=97.10, std=128.38, percent_finite=87.20%\n",
      "  2.88: mean=103.60, std=74.11, percent_finite=98.40%\n",
      "  5.25: mean=108.12, std=51.43, percent_finite=100.00%\n",
      "  7.62: mean=110.70, std=41.00, percent_finite=100.00%\n",
      "  10.00: mean=111.78, std=33.80, percent_finite=100.00%\n",
      "PARAM: penalty_factor\n",
      "  0.95: mean=66.95, std=34.48, percent_finite=96.00%\n",
      "  0.72: mean=74.19, std=36.71, percent_finite=95.20%\n",
      "  0.50: mean=85.19, std=38.70, percent_finite=96.00%\n",
      "  0.27: mean=104.15, std=43.13, percent_finite=98.40%\n",
      "  0.05: mean=198.06, std=90.89, percent_finite=100.00%\n"
     ]
    }
   ],
   "source": [
    "# for each value of each parameter, print the mean and std of the cost (when finite)\n",
    "# and the percent of finite costs\n",
    "params = [\"resp_sigma\", \"card_sigma\", \"priority_exp\", \"penalty_factor\"]\n",
    "for param in params:\n",
    "    print(f\"PARAM: {param}\")\n",
    "    param_values = df_sorted[param].unique()\n",
    "    for value in param_values:\n",
    "        subset = df_sorted[df_sorted[param] == value]\n",
    "        finite_costs = subset[subset[\"cost\"] != float(\"inf\")]\n",
    "        mean_cost = finite_costs[\"cost\"].mean()\n",
    "        std_cost = finite_costs[\"cost\"].std()\n",
    "        percent_finite = len(finite_costs) / len(subset) * 100\n",
    "        print(f\"  {value:.2f}: mean={mean_cost:.2f}, std={std_cost:.2f}, percent_finite={percent_finite:.2f}%\")"
   ]
  },
  {
   "cell_type": "code",
   "execution_count": null,
   "metadata": {},
   "outputs": [],
   "source": [
    "# TAKEAWAYS\n",
    "# High penalty factor is certainly better\n",
    "# Priority_exp is unclear...\n",
    "# High card_sigma is certainly better\n",
    "# Resp_sigma is unclear..."
   ]
  }
 ],
 "metadata": {
  "kernelspec": {
   "display_name": "mri",
   "language": "python",
   "name": "python3"
  },
  "language_info": {
   "codemirror_mode": {
    "name": "ipython",
    "version": 3
   },
   "file_extension": ".py",
   "mimetype": "text/x-python",
   "name": "python",
   "nbconvert_exporter": "python",
   "pygments_lexer": "ipython3",
   "version": "3.10.14"
  }
 },
 "nbformat": 4,
 "nbformat_minor": 2
}

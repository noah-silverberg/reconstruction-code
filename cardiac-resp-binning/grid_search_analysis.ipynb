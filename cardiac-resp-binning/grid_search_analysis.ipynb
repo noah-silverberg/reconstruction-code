{
 "cells": [
  {
   "cell_type": "code",
   "execution_count": 16,
   "metadata": {},
   "outputs": [
    {
     "name": "stdout",
     "output_type": "stream",
     "text": [
      "BEST\n",
      "     resp_sigma  card_sigma  priority_exp  penalty_factor       cost\n",
      "74     0.250000    0.672222           2.6        0.266667  26.056204\n",
      "884    0.516667    0.711111           2.6        0.266667  26.058479\n",
      "413    0.383333    0.438889           2.6        0.260000  26.061285\n",
      "828    0.516667    0.477778           2.6        0.293333  26.061437\n",
      "123    0.283333    0.477778           2.6        0.260000  26.063328\n",
      "780    0.483333    0.711111           2.6        0.240000  26.063900\n",
      "153    0.283333    0.594444           2.6        0.260000  26.065505\n",
      "3      0.250000    0.400000           2.6        0.260000  26.068464\n",
      "634    0.450000    0.516667           2.6        0.266667  26.068734\n",
      "807    0.516667    0.400000           2.6        0.286667  26.069406\n",
      "WORST\n",
      "     resp_sigma  card_sigma  priority_exp  penalty_factor       cost\n",
      "432    0.383333    0.516667           2.6        0.253333  26.136318\n",
      "508    0.416667    0.400000           2.6        0.293333  26.138135\n",
      "988    0.550000    0.711111           2.6        0.293333  26.138187\n",
      "744    0.483333    0.555556           2.6        0.266667  26.139759\n",
      "252    0.316667    0.594444           2.6        0.253333  26.140025\n",
      "320    0.350000    0.477778           2.6        0.240000  26.141748\n",
      "100    0.283333    0.400000           2.6        0.240000  26.141905\n",
      "134    0.283333    0.516667           2.6        0.266667  26.142651\n",
      "450    0.383333    0.594444           2.6        0.240000  26.143884\n",
      "756    0.483333    0.594444           2.6        0.280000  26.149563\n"
     ]
    }
   ],
   "source": [
    "import pandas as pd\n",
    "df = pd.read_csv(\"gridsearch_results.csv\")\n",
    "df_sorted = df.sort_values(by=\"cost\", ascending=True)\n",
    "best_10 = df_sorted.head(10)\n",
    "worst_10_finite = df_sorted[df_sorted[\"cost\"] != float(\"inf\")].tail(10)\n",
    "print(\"BEST\")\n",
    "print(best_10)\n",
    "print(\"WORST\")\n",
    "print(worst_10_finite)"
   ]
  },
  {
   "cell_type": "code",
   "execution_count": 17,
   "metadata": {},
   "outputs": [
    {
     "name": "stdout",
     "output_type": "stream",
     "text": [
      "PARAM: resp_sigma\n",
      "  0.25: mean=26.10, std=0.01, percent_finite=100.00%\n",
      "  0.52: mean=26.10, std=0.01, percent_finite=100.00%\n",
      "  0.38: mean=26.10, std=0.01, percent_finite=100.00%\n",
      "  0.28: mean=26.10, std=0.02, percent_finite=100.00%\n",
      "  0.48: mean=26.10, std=0.02, percent_finite=100.00%\n",
      "  0.45: mean=26.10, std=0.01, percent_finite=100.00%\n",
      "  0.42: mean=26.10, std=0.02, percent_finite=100.00%\n",
      "  0.35: mean=26.11, std=0.01, percent_finite=100.00%\n",
      "  0.55: mean=26.10, std=0.02, percent_finite=100.00%\n",
      "  0.32: mean=26.10, std=0.01, percent_finite=100.00%\n",
      "PARAM: card_sigma\n",
      "  0.67: mean=26.10, std=0.01, percent_finite=100.00%\n",
      "  0.71: mean=26.10, std=0.02, percent_finite=100.00%\n",
      "  0.44: mean=26.10, std=0.01, percent_finite=100.00%\n",
      "  0.48: mean=26.10, std=0.02, percent_finite=100.00%\n",
      "  0.59: mean=26.10, std=0.02, percent_finite=100.00%\n",
      "  0.40: mean=26.11, std=0.02, percent_finite=100.00%\n",
      "  0.52: mean=26.10, std=0.02, percent_finite=100.00%\n",
      "  0.56: mean=26.10, std=0.01, percent_finite=100.00%\n",
      "  0.63: mean=26.10, std=0.01, percent_finite=100.00%\n",
      "  0.75: mean=26.10, std=0.01, percent_finite=100.00%\n",
      "PARAM: priority_exp\n",
      "  2.60: mean=26.10, std=0.01, percent_finite=100.00%\n",
      "PARAM: penalty_factor\n",
      "  0.27: mean=26.10, std=0.02, percent_finite=100.00%\n",
      "  0.26: mean=26.10, std=0.01, percent_finite=100.00%\n",
      "  0.29: mean=26.10, std=0.02, percent_finite=100.00%\n",
      "  0.24: mean=26.10, std=0.01, percent_finite=100.00%\n",
      "  0.29: mean=26.10, std=0.01, percent_finite=100.00%\n",
      "  0.27: mean=26.10, std=0.01, percent_finite=100.00%\n",
      "  0.30: mean=26.10, std=0.02, percent_finite=100.00%\n",
      "  0.25: mean=26.10, std=0.01, percent_finite=100.00%\n",
      "  0.25: mean=26.10, std=0.01, percent_finite=100.00%\n",
      "  0.28: mean=26.10, std=0.01, percent_finite=100.00%\n"
     ]
    }
   ],
   "source": [
    "# for each value of each parameter, print the mean and std of the cost (when finite)\n",
    "# and the percent of finite costs\n",
    "params = [\"resp_sigma\", \"card_sigma\", \"priority_exp\", \"penalty_factor\"]\n",
    "for param in params:\n",
    "    print(f\"PARAM: {param}\")\n",
    "    param_values = df_sorted[param].unique()\n",
    "    for value in param_values:\n",
    "        subset = df_sorted[df_sorted[param] == value]\n",
    "        finite_costs = subset[subset[\"cost\"] != float(\"inf\")]\n",
    "        mean_cost = finite_costs[\"cost\"].mean()\n",
    "        std_cost = finite_costs[\"cost\"].std()\n",
    "        percent_finite = len(finite_costs) / len(subset) * 100\n",
    "        print(f\"  {value:.2f}: mean={mean_cost:.2f}, std={std_cost:.2f}, percent_finite={percent_finite:.2f}%\")"
   ]
  },
  {
   "cell_type": "code",
   "execution_count": null,
   "metadata": {},
   "outputs": [],
   "source": []
  }
 ],
 "metadata": {
  "kernelspec": {
   "display_name": "mri",
   "language": "python",
   "name": "python3"
  },
  "language_info": {
   "codemirror_mode": {
    "name": "ipython",
    "version": 3
   },
   "file_extension": ".py",
   "mimetype": "text/x-python",
   "name": "python",
   "nbconvert_exporter": "python",
   "pygments_lexer": "ipython3",
   "version": "3.10.14"
  }
 },
 "nbformat": 4,
 "nbformat_minor": 2
}
